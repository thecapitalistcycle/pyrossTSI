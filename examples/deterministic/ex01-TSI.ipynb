{
 "cells": [
  {
   "cell_type": "markdown",
   "metadata": {},
   "source": [
    "This code solves the 'time since infection' model described in our recent report [arxiv link when available].\n",
    "\n",
    "$\\frac{dS}{dt} = -R_0S\\int_{-1}^{1}\\beta(s)I(t,s)ds$\n",
    "\n",
    "$\\frac{\\partial I}{\\partial t} + \\frac{\\partial I}{\\partial s} = 0$\n",
    "\n",
    "$I(t,-1) = -\\frac{dS}{dt}$\n",
    "\n",
    "This code also considers the generalization to age-structured models and allows for an arbitrary number of sub-classes to the infected population with arbitrary time-dependent probabilities for entering/leaving those sub-classes"
   ]
  },
  {
   "cell_type": "code",
   "execution_count": 1,
   "metadata": {},
   "outputs": [],
   "source": [
    "%%capture\n",
    "## compile PyRossTSI for this notebook\n",
    "import os\n",
    "owd = os.getcwd()\n",
    "os.chdir('../..')\n",
    "%run setup.py install\n",
    "os.chdir(owd)\n",
    "\n",
    "import pyrosstsi\n",
    "import numpy as np\n",
    "import matplotlib.pyplot as plt"
   ]
  },
  {
   "cell_type": "code",
   "execution_count": 2,
   "metadata": {},
   "outputs": [],
   "source": [
    "T = 15       #What's the longest time (in days) for which a person can be infectious?\n",
    "Td = 5       #What's the doubling time (in days) when in the linear growth regime?\n",
    "Tf = 150     #End time (days)\n",
    "\n",
    "tsi  = np.array([0,   3,    5,   10,   T])   #time since infection (days)\n",
    "beta = np.array([0,   0.5,  1,   .5,   0])   #mean infectiousness (arbitrary units)\n",
    "tsi_sc  =  np.array([0,   3.,    6.,    9.,   12,    T])  #For convenience, we say that you reach your final state at time T\n",
    "                                                              #if this is not OK, adjust previous section accordingly\n",
    "    \n",
    "  "
   ]
  },
  {
   "cell_type": "code",
   "execution_count": 3,
   "metadata": {},
   "outputs": [],
   "source": [
    "M = 2                   #Number of age groups to model\n",
    "Ni = 10**6*np.ones(M)   #Number of people in each age group\n",
    "Np = sum(Ni)            #total population size"
   ]
  },
  {
   "cell_type": "code",
   "execution_count": 4,
   "metadata": {},
   "outputs": [],
   "source": [
    "subclasses = ['Recovered', 'Hospitalized', 'Deceased'] #e.g. Recovered, Hospitalized, Deceased\n",
    "method='Predictor_Corrector'  # Galerkin and Hybrid also possible\n",
    "integrator='odeint'\n",
    "Nc = len(subclasses)\n"
   ]
  },
  {
   "cell_type": "code",
   "execution_count": 5,
   "metadata": {},
   "outputs": [],
   "source": [
    "#Specify the level of resolution in the s-direction\n",
    "NL = 6     #Number of Legendre Polynomials for the Galerkin method (when applicable)\n",
    "Nk = 10    #Number of stages in Predictor/Corrector method\n",
    "\n",
    "Tc = T/2 #rescaling of time, and tsi\n",
    "tswap = np.array([0, 5*T/2]); tswap = np.append(tswap/Tc, Tf)"
   ]
  },
  {
   "cell_type": "code",
   "execution_count": 6,
   "metadata": {},
   "outputs": [],
   "source": [
    "def Cij_dim(t):    return np.array([[4, 1],[1, 2]]); \n",
    "Cij = Cij_dim(0)\n",
    "\n",
    "A = np.matmul(np.diag(Ni),Cij);  A = np.matmul(A,np.diag(1/Ni)); max_eig_A = np.max(np.real(np.linalg.eigvals(A)))\n",
    "\n",
    "sp = np.linspace(0,T,1000); lam = np.log(2)/Td;  #Growth rate\n",
    "rs = max_eig_A*np.trapz(np.exp(-lam*sp)*np.interp(sp,tsi,beta),sp)\n",
    "beta = beta/rs       #now beta has been rescaled to give the correct (dimensional) doubling time\n",
    "\n",
    "#define a rescaled tsi\n",
    "s = np.linspace(-1,1,Nk)\n",
    "\n",
    "#next make sure that the initial condition is known\n",
    "def get_IC(ep):\n",
    "    #Initial susceptible is the whole population\n",
    "    S_0 = Ni\n",
    "\n",
    "    #get contact matrix from frist time step\n",
    "    Cij = Cij_dim(0)\n",
    "\n",
    "    #get I_0 from linear stability analysis\n",
    "    #find the fastest growing linear mode\n",
    "    A = np.matmul(np.diag(Ni),Cij)\n",
    "    A = np.matmul(A,np.diag(1/Ni))\n",
    "    sp = np.linspace(0,T,1000)\n",
    "    lam = np.log(2)/Td;\n",
    "    A = A*np.trapz(np.exp(-lam*sp)*np.interp(sp,tsi,beta),sp)\n",
    "    w, v = np.linalg.eig(-np.identity(M) + A)\n",
    "\n",
    "    #now identify the largest eigenvalue/eigenvector...\n",
    "    pos = np.where(w == np.amax(w))\n",
    "    pos = pos[0][0]\n",
    "    lam = T/Td*np.log(2)\n",
    "    s = np.linspace(-1,1,Nk)\n",
    "    I_0 = ep*np.abs(np.real(np.outer(np.exp(-lam*s),v[:,pos])))\n",
    "\n",
    "    #just set Ic_0 to zero -- these numbers are too small to matter\n",
    "    Ic_0 = np.zeros((Nc,M))\n",
    "\n",
    "    return S_0, I_0, Ic_0\n",
    "\n",
    "S_0, I_0, Ic_0 = get_IC(10**-3/T*Np)\n",
    "\n",
    "#rescale all population sizes\n",
    "Ni = Ni/Np\n",
    "I_0 = I_0/Np*Tc  #recall that this is a number density (number infected per unit tsi)\n",
    "S_0 = S_0/Np\n",
    "Ic_0 = Ic_0/Np*Tc\n",
    "\n",
    "#precompute Cij/Nj as a rescaled contact matrix:\n",
    "def Cij_t(t):\n",
    "    return np.matmul(Cij_dim(t*Tc),np.diag(1/Ni))\n",
    "\n",
    "#nondimensionalize beta:\n",
    "beta = beta*Tc\n",
    "tsi = tsi/Tc - 1\n",
    "tsi_sc = tsi_sc/Tc - 1\n",
    "\n",
    "#rescale end time\n",
    "Tf = Tf/Tc\n",
    "IC = [S_0, I_0, Ic_0]\n",
    "\n",
    "tswap = np.append(tswap/Tc, Tf)\n",
    "\n",
    "params = {'M':M, 'Nc':Nc, 'Nk':Nk, 'Tf':Tf, 'Tc':Tc, 'T':T, 'NL':NL,\n",
    "          'tsi':tsi,'beta':beta, 'tswap':tswap,\n",
    "          'tsi_sc':tsi_sc}\n",
    "\n"
   ]
  },
  {
   "cell_type": "code",
   "execution_count": 7,
   "metadata": {},
   "outputs": [],
   "source": [
    "method='Predictor_Corrector'; integrator='odeint'\n",
    "model = pyrosstsi.deterministic.Simulator(params, IC, subclasses, method, integrator)"
   ]
  },
  {
   "cell_type": "code",
   "execution_count": 8,
   "metadata": {},
   "outputs": [
    {
     "ename": "KeyError",
     "evalue": "'p_alpha'",
     "output_type": "error",
     "traceback": [
      "\u001b[0;31m---------------------------------------------------------------------------\u001b[0m",
      "\u001b[0;31mKeyError\u001b[0m                                  Traceback (most recent call last)",
      "\u001b[0;32m<ipython-input-8-cdf315ed74a2>\u001b[0m in \u001b[0;36m<module>\u001b[0;34m\u001b[0m\n\u001b[0;32m----> 1\u001b[0;31m \u001b[0mmodel\u001b[0m\u001b[0;34m.\u001b[0m\u001b[0mintegrate\u001b[0m\u001b[0;34m(\u001b[0m\u001b[0mCij_t\u001b[0m\u001b[0;34m)\u001b[0m\u001b[0;34m\u001b[0m\u001b[0;34m\u001b[0m\u001b[0m\n\u001b[0m",
      "\u001b[0;32mpyrosstsi/deterministic.pyx\u001b[0m in \u001b[0;36mpyrosstsi.deterministic.Simulator.integrate\u001b[0;34m()\u001b[0m\n",
      "\u001b[0;31mKeyError\u001b[0m: 'p_alpha'"
     ]
    }
   ],
   "source": [
    "model.integrate(Cij_t)"
   ]
  },
  {
   "cell_type": "code",
   "execution_count": null,
   "metadata": {},
   "outputs": [],
   "source": []
  }
 ],
 "metadata": {
  "kernelspec": {
   "display_name": "Python 3",
   "language": "python",
   "name": "python3"
  },
  "language_info": {
   "codemirror_mode": {
    "name": "ipython",
    "version": 3
   },
   "file_extension": ".py",
   "mimetype": "text/x-python",
   "name": "python",
   "nbconvert_exporter": "python",
   "pygments_lexer": "ipython3",
   "version": "3.7.3"
  }
 },
 "nbformat": 4,
 "nbformat_minor": 4
}
