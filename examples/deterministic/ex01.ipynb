{
 "cells": [
  {
   "cell_type": "code",
   "execution_count": 1,
   "metadata": {},
   "outputs": [],
   "source": [
    "%%capture\n",
    "## compile PyRossTSI for this notebook\n",
    "import os\n",
    "owd = os.getcwd()\n",
    "os.chdir('../..')\n",
    "%run setup.py install\n",
    "os.chdir(owd)\n",
    "\n",
    "import pyrosstsi\n",
    "import numpy as np\n",
    "import matplotlib.pyplot as plt"
   ]
  },
  {
   "cell_type": "code",
   "execution_count": 2,
   "metadata": {},
   "outputs": [],
   "source": [
    "T = 15                                       # Longest  infectious duration\n",
    "Td = 5                                       # Doubling time in linear growth regime\n",
    "Tf = 150                                     # Duration of simulation\n",
    "\n",
    "tsi  = np.array([0,   3,    5,   10,   T])   # Time since infection (days)\n",
    "beta = np.array([0,   0.5,  1,   .5,   0])   # Mean infectiousness \n",
    "tsi_sc=np.array([0,3.,6., 9.,   12,    T]) \n",
    "\n",
    "M = 2                                        # Number of age groups to model\n",
    "Ni = 10**6*np.ones(M)                        # Number of people in each age group\n",
    "Np = sum(Ni)                                 # Total population size\n",
    "\n",
    "subclasses = ['Recovered', 'Hospitalized', 'Mortality']  \n",
    "Nc = len(subclasses)\n",
    "Nk = 10                #Number of stages in Predictor/Corrector method\n",
    "Tc = T/2               \n",
    "\n",
    "def contactMatrix(t):    return np.array([[4, 1],[1, 2]]); "
   ]
  },
  {
   "cell_type": "code",
   "execution_count": 3,
   "metadata": {},
   "outputs": [],
   "source": [
    "parameters = {'M':M, 'Ni':Ni, 'Nc':Nc, 'Nk':Nk, \n",
    "              'Tf':Tf, 'Tc':Tc, 'T':T, 'Td':Td,\n",
    "              'tsi':tsi,'beta':beta,'tsi_sc':tsi_sc,\n",
    "              'contactMatrix':contactMatrix}"
   ]
  },
  {
   "cell_type": "code",
   "execution_count": 4,
   "metadata": {},
   "outputs": [],
   "source": [
    "model = pyrosstsi.deterministic.Simulator(parameters, subclasses)"
   ]
  },
  {
   "cell_type": "code",
   "execution_count": 5,
   "metadata": {},
   "outputs": [
    {
     "name": "stdout",
     "output_type": "stream",
     "text": [
      "[0.49948108 0.49978499]\n",
      "[0.49870849 0.49946464]\n",
      "[0.49764691 0.49902396]\n",
      "[0.4962907 0.4984601]\n",
      "[0.49460038 0.4977559 ]\n",
      "[0.4924768  0.49686889]\n",
      "[0.48982127 0.49575594]\n",
      "[0.48651685 0.49436515]\n",
      "[0.48241324 0.49262869]\n",
      "[0.4773234  0.49046038]\n",
      "[0.47103917 0.48776059]\n",
      "[0.46333358 0.48441513]\n",
      "[0.45394907 0.48028706]\n",
      "[0.44261546 0.47522009]\n",
      "[0.42907141 0.46904258]\n",
      "[0.41308927 0.46157216]\n",
      "[0.39451367 0.45262658]\n",
      "[0.3733084  0.44204031]\n",
      "[0.34960355 0.42968627]\n",
      "[0.32373306 0.41550196]\n",
      "[0.29624931 0.39951719]\n",
      "[0.26790063 0.38187769]\n",
      "[0.23956476 0.36285702]\n",
      "[0.21214673 0.34285057]\n",
      "[0.18646356 0.32234831]\n",
      "[0.16314573 0.30188886]\n",
      "[0.14258058 0.28200337]\n",
      "[0.124907   0.26316148]\n",
      "[0.110053   0.24573069]\n",
      "[0.09779697 0.22995566]\n",
      "[0.08783236 0.21595781]\n",
      "[0.07982209 0.20375067]\n",
      "[0.0734367  0.19326396]\n",
      "[0.06837678 0.18437013]\n",
      "[0.06438318 0.17690861]\n",
      "[0.06123892 0.17070534]\n",
      "[0.05876661 0.16558696]\n",
      "[0.05682355 0.1613901 ]\n",
      "[0.05529628 0.15796659]\n",
      "[0.0540952  0.15518577]\n",
      "[0.05314993 0.15293489]\n",
      "[0.05240534 0.15111819]\n",
      "[0.05181825 0.14965538]\n",
      "[0.05135491 0.14847982]\n",
      "[0.05098889 0.1475366 ]\n",
      "[0.0506995 0.1467808]\n",
      "[0.0504705  0.14617583]\n",
      "[0.05028915 0.14569203]\n",
      "[0.05014545 0.14530541]\n",
      "[0.0500315  0.14499664]\n",
      "[0.0499411  0.14475017]\n",
      "[0.04986935 0.14455351]\n",
      "[0.04981237 0.14439664]\n",
      "[0.04976712 0.14427156]\n",
      "[0.04973115 0.14417184]\n",
      "[0.04970256 0.14409236]\n",
      "[0.04967984 0.14402902]\n",
      "[0.04966176 0.14397855]\n",
      "[0.04964739 0.14393834]\n",
      "[0.04963596 0.1439063 ]\n",
      "[0.04962686 0.14388079]\n",
      "[0.04961962 0.14386046]\n",
      "[0.04961386 0.14384427]\n",
      "[0.04960927 0.14383138]\n",
      "[0.04960563 0.14382111]\n",
      "[0.04960272 0.14381293]\n",
      "[0.04960041 0.14380642]\n",
      "[0.04959857 0.14380123]\n",
      "[0.04959711 0.1437971 ]\n",
      "[0.04959594 0.14379381]\n",
      "[0.04959501 0.1437912 ]\n",
      "[0.04959427 0.14378911]\n",
      "[0.04959368 0.14378745]\n",
      "[0.04959321 0.14378613]\n",
      "[0.04959284 0.14378507]\n",
      "[0.04959254 0.14378424]\n",
      "[0.04959231 0.14378357]\n",
      "[0.04959212 0.14378304]\n",
      "[0.04959197 0.14378261]\n",
      "[0.04959185 0.14378228]\n",
      "[0.04959176 0.14378201]\n",
      "[0.04959168 0.14378179]\n",
      "[0.04959162 0.14378162]\n",
      "[0.04959157 0.14378149]\n",
      "[0.04959153 0.14378138]\n",
      "[0.0495915  0.14378129]\n",
      "[0.04959148 0.14378123]\n",
      "[0.04959146 0.14378117]\n",
      "[0.04959144 0.14378113]\n",
      "[0.04959143 0.14378109]\n"
     ]
    }
   ],
   "source": [
    "IC = model.get_IC()\n",
    "data   = model.integrate(IC)"
   ]
  },
  {
   "cell_type": "code",
   "execution_count": 6,
   "metadata": {},
   "outputs": [
    {
     "data": {
      "text/plain": [
       "[array([0.5, 0.5]),\n",
       " array([[3.69551813e-03, 1.53073373e-03],\n",
       "        [2.32803054e-03, 9.64301824e-04],\n",
       "        [1.46656734e-03, 6.07472083e-04],\n",
       "        [9.23879533e-04, 3.82683432e-04],\n",
       "        [5.82007635e-04, 2.41075456e-04],\n",
       "        [3.66641835e-04, 1.51868021e-04],\n",
       "        [2.30969883e-04, 9.56708581e-05],\n",
       "        [1.45501909e-04, 6.02688640e-05],\n",
       "        [9.16604589e-05, 3.79670052e-05],\n",
       "        [5.77424708e-05, 2.39177145e-05]]),\n",
       " array([[0., 0.],\n",
       "        [0., 0.],\n",
       "        [0., 0.]])]"
      ]
     },
     "execution_count": 6,
     "metadata": {},
     "output_type": "execute_result"
    }
   ],
   "source": [
    "IC"
   ]
  },
  {
   "cell_type": "code",
   "execution_count": 7,
   "metadata": {},
   "outputs": [
    {
     "data": {
      "text/plain": [
       "(0.0, 17694.856984503815)"
      ]
     },
     "execution_count": 7,
     "metadata": {},
     "output_type": "execute_result"
    },
    {
     "data": {
      "image/png": "[encoded data removed]",
      "text/plain": [
       "<Figure size 432x288 with 1 Axes>"
      ]
     },
     "metadata": {
      "needs_background": "light"
     },
     "output_type": "display_data"
    },
    {
     "data": {
      "image/png": "[encoded data removed]",
      "text/plain": [
       "<Figure size 432x288 with 1 Axes>"
      ]
     },
     "metadata": {
      "needs_background": "light"
     },
     "output_type": "display_data"
    }
   ],
   "source": [
    "t = data['t']\n",
    "S_t = data['S_t']\n",
    "I_t = data['I_t']\n",
    "Ic_t = data['Ic_t']\n",
    "\n",
    "\n",
    "plt.figure()    \n",
    "plt.plot(t*Tc,Np*np.sum(S_t,0),'r', label = 'Susceptible')           #all susceptible\n",
    "plt.plot(t*Tc,Np*np.sum(I_t,0),'b', label = 'Infected')              #all Infected\n",
    "plt.legend()\n",
    "plt.xlabel('time (days)');       plt.xlim(0,Tf*Tc)\n",
    "plt.ylabel('number of people');  plt.ylim(0,Np)\n",
    "\n",
    "#Other subclasses of Infected:\n",
    "plt.figure() \n",
    "for i in (1 + np.arange(Nc-1)):\n",
    "    plt.plot(Tc*t,Np*np.sum(Ic_t[i,:,:],0), label = subclasses[i])\n",
    "plt.legend()\n",
    "plt.xlabel('time (days)')\n",
    "plt.ylabel('number of people')\n",
    "plt.xlabel('time (days)');       plt.xlim(0,Tf*Tc)\n",
    "plt.ylabel('number of people');  plt.ylim(0,1.1*np.amax(Np*np.sum(Ic_t[2,:,:],0)))"
   ]
  }
 ],
 "metadata": {
  "kernelspec": {
   "display_name": "Python 3",
   "language": "python",
   "name": "python3"
  },
  "language_info": {
   "codemirror_mode": {
    "name": "ipython",
    "version": 3
   },
   "file_extension": ".py",
   "mimetype": "text/x-python",
   "name": "python",
   "nbconvert_exporter": "python",
   "pygments_lexer": "ipython3",
   "version": "3.7.3"
  }
 },
 "nbformat": 4,
 "nbformat_minor": 4
}
