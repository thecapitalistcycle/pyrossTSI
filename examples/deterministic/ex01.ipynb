{
 "cells": [
  {
   "cell_type": "code",
   "execution_count": 1,
   "metadata": {},
   "outputs": [],
   "source": [
    "%%capture\n",
    "## compile PyRossTSI for this notebook\n",
    "import os\n",
    "owd = os.getcwd()\n",
    "os.chdir('../..')\n",
    "%run setup.py install\n",
    "os.chdir(owd)\n",
    "\n",
    "import pyrosstsi\n",
    "import numpy as np\n",
    "import matplotlib.pyplot as plt"
   ]
  },
  {
   "cell_type": "code",
   "execution_count": 2,
   "metadata": {},
   "outputs": [],
   "source": [
    "T = 15                                       # Longest  infectious duration\n",
    "Td = 5                                       # Doubling time in linear growth regime\n",
    "Tf = 150                                     # Duration of simulation\n",
    "\n",
    "tsi  = np.array([0,   3,    5,   10,   T])   # Time since infection (days)\n",
    "beta = np.array([0,   0.5,  1,   .5,   0])   # Mean infectiousness \n",
    "tsi_sc=np.array([0,3.,6., 9.,   12,    T]) \n",
    "\n",
    "M = 2                                        # Number of age groups to model\n",
    "Ni = 10**6*np.ones(M)                        # Number of people in each age group\n",
    "Np = sum(Ni)                                 # Total population size\n",
    "\n",
    "subclasses = ['Recovered', 'Hospitalized', 'Mortality']  \n",
    "Nc = len(subclasses)\n",
    "Nk = 10                #Number of stages in Predictor/Corrector method\n",
    "Tc = T/2               \n",
    "\n",
    "def contactMatrix(t):    return np.array([[4, 1],[1, 2]]); "
   ]
  },
  {
   "cell_type": "code",
   "execution_count": 3,
   "metadata": {},
   "outputs": [],
   "source": [
    "parameters = {'M':M, 'Ni':Ni, 'Nc':Nc, 'Nk':Nk, \n",
    "              'Tf':Tf, 'Tc':Tc, 'T':T, 'Td':Td,\n",
    "              'tsi':tsi,'beta':beta,'tsi_sc':tsi_sc,\n",
    "              'contactMatrix':contactMatrix}"
   ]
  },
  {
   "cell_type": "code",
   "execution_count": 4,
   "metadata": {},
   "outputs": [],
   "source": [
    "model = pyrosstsi.deterministic.Simulator(parameters, subclasses)\n"
   ]
  },
  {
   "cell_type": "code",
   "execution_count": 5,
   "metadata": {},
   "outputs": [
    {
     "name": "stdout",
     "output_type": "stream",
     "text": [
      "[ 0.         -0.64075448] [[ 0.92387953 -0.38268343]\n",
      " [ 0.38268343  0.92387953]] [[985.47150135 408.19566119]\n",
      " [620.80814431 257.147153  ]\n",
      " [391.08462448 161.9925555 ]\n",
      " [246.36787534 102.0489153 ]\n",
      " [155.20203608  64.28678825]\n",
      " [ 97.77115612  40.49813887]\n",
      " [ 61.59196883  25.51222882]\n",
      " [ 38.80050902  16.07169706]\n",
      " [ 24.44278903  10.12453472]\n",
      " [ 15.39799221   6.37805721]]\n"
     ]
    }
   ],
   "source": [
    "IC = model.get_IC()\n",
    "model.nondimensionalize()\n",
    "data   = model.integrate(IC)\n"
   ]
  },
  {
   "cell_type": "code",
   "execution_count": 6,
   "metadata": {},
   "outputs": [
    {
     "data": {
      "text/plain": [
       "(0.0, 65.37316288333822)"
      ]
     },
     "execution_count": 6,
     "metadata": {},
     "output_type": "execute_result"
    },
    {
     "data": {
      "image/png": "[encoded data removed]",
      "text/plain": [
       "<Figure size 432x288 with 1 Axes>"
      ]
     },
     "metadata": {
      "needs_background": "light"
     },
     "output_type": "display_data"
    },
    {
     "data": {
      "image/png": "[encoded data removed]",
      "text/plain": [
       "<Figure size 432x288 with 1 Axes>"
      ]
     },
     "metadata": {
      "needs_background": "light"
     },
     "output_type": "display_data"
    }
   ],
   "source": [
    "t = data['t']\n",
    "S_t = data['S_t']\n",
    "I_t = data['I_t']\n",
    "Ic_t = data['Ic_t']\n",
    "\n",
    "\n",
    "plt.figure()    \n",
    "plt.plot(t*Tc,Np*np.sum(S_t,0),'r', label = 'Susceptible')           #all susceptible\n",
    "plt.plot(t*Tc,Np*np.sum(I_t,0),'b', label = 'Infected')              #all Infected\n",
    "plt.legend()\n",
    "plt.xlabel('time (days)');       plt.xlim(0,Tf*Tc)\n",
    "plt.ylabel('number of people');  plt.ylim(0,Np)\n",
    "\n",
    "#Other subclasses of Infected:\n",
    "plt.figure() \n",
    "for i in (1 + np.arange(Nc-1)):\n",
    "    plt.plot(Tc*t,Np*np.sum(Ic_t[i,:,:],0), label = subclasses[i])\n",
    "plt.legend()\n",
    "plt.xlabel('time (days)')\n",
    "plt.ylabel('number of people')\n",
    "plt.xlabel('time (days)');       plt.xlim(0,Tf*Tc)\n",
    "plt.ylabel('number of people');  plt.ylim(0,1.1*np.amax(Np*np.sum(Ic_t[2,:,:],0)))"
   ]
  },
  {
   "cell_type": "code",
   "execution_count": 7,
   "metadata": {},
   "outputs": [
    {
     "data": {
      "text/plain": [
       "[array([0.5, 0.5]),\n",
       " array([[3.69551813e-03, 1.53073373e-03],\n",
       "        [2.32803054e-03, 9.64301824e-04],\n",
       "        [1.46656734e-03, 6.07472083e-04],\n",
       "        [9.23879533e-04, 3.82683432e-04],\n",
       "        [5.82007635e-04, 2.41075456e-04],\n",
       "        [3.66641835e-04, 1.51868021e-04],\n",
       "        [2.30969883e-04, 9.56708581e-05],\n",
       "        [1.45501909e-04, 6.02688640e-05],\n",
       "        [9.16604589e-05, 3.79670052e-05],\n",
       "        [5.77424708e-05, 2.39177145e-05]]),\n",
       " array([[0., 0.],\n",
       "        [0., 0.],\n",
       "        [0., 0.]])]"
      ]
     },
     "execution_count": 7,
     "metadata": {},
     "output_type": "execute_result"
    }
   ],
   "source": [
    "IC"
   ]
  },
  {
   "cell_type": "code",
   "execution_count": 8,
   "metadata": {},
   "outputs": [],
   "source": [
    "ep = 10**-3/T*Np\n"
   ]
  },
  {
   "cell_type": "code",
   "execution_count": 9,
   "metadata": {},
   "outputs": [
    {
     "data": {
      "text/plain": [
       "133.33333333333334"
      ]
     },
     "execution_count": 9,
     "metadata": {},
     "output_type": "execute_result"
    }
   ],
   "source": [
    "ep"
   ]
  },
  {
   "cell_type": "code",
   "execution_count": null,
   "metadata": {},
   "outputs": [],
   "source": []
  }
 ],
 "metadata": {
  "kernelspec": {
   "display_name": "Python 3",
   "language": "python",
   "name": "python3"
  },
  "language_info": {
   "codemirror_mode": {
    "name": "ipython",
    "version": 3
   },
   "file_extension": ".py",
   "mimetype": "text/x-python",
   "name": "python",
   "nbconvert_exporter": "python",
   "pygments_lexer": "ipython3",
   "version": "3.7.3"
  }
 },
 "nbformat": 4,
 "nbformat_minor": 4
}
