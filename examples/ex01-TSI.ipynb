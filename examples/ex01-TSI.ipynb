{
 "cells": [
  {
   "cell_type": "markdown",
   "metadata": {},
   "source": [
    "This code solves the 'time since infection' model described in our recent report [arxiv link when available].\n",
    "\n",
    "$\\frac{dS}{dt} = -R_0S\\int_{-1}^{1}\\beta(s)I(t,s)ds$\n",
    "\n",
    "$\\frac{\\partial I}{\\partial t} + \\frac{\\partial I}{\\partial s} = 0$\n",
    "\n",
    "$I(t,-1) = -\\frac{dS}{dt}$\n",
    "\n",
    "This code also considers the generalization to age-structured models and allows for an arbitrary number of sub-classes to the infected population with arbitrary time-dependent probabilities for entering/leaving those sub-classes"
   ]
  },
  {
   "cell_type": "code",
   "execution_count": 1,
   "metadata": {},
   "outputs": [],
   "source": [
    "%%capture\n",
    "## compile PyRossTSI for this notebook\n",
    "import os\n",
    "owd = os.getcwd()\n",
    "os.chdir('../../')\n",
    "%run setup.py install\n",
    "os.chdir(owd)\n",
    "\n",
    "import pyrosstsi\n",
    "import numpy as np\n",
    "import matplotlib.pyplot as plt"
   ]
  },
  {
   "cell_type": "code",
   "execution_count": 2,
   "metadata": {},
   "outputs": [],
   "source": [
    "T = 15       #What's the longest time (in days) for which a person can be infectious?\n",
    "Td = 5       #What's the doubling time (in days) when in the linear growth regime?\n",
    "\n",
    "tsi  = np.array([0,   3,    5,   10,   T])   #time since infection (days)\n",
    "beta = np.array([0,   0.5,  1,   .5,   0])   #mean infectiousness (arbitrary units)"
   ]
  },
  {
   "cell_type": "code",
   "execution_count": 3,
   "metadata": {},
   "outputs": [],
   "source": [
    "M = 2                #Number of age groups to model\n",
    "Ni = 10**6*np.ones(M)  #Number of people in each age group\n",
    "Np = sum(Ni)         #total population size\n",
    "\n",
    "contactMatrix = pyrosstsi.contactMatrix.Cij_dim"
   ]
  },
  {
   "cell_type": "code",
   "execution_count": 5,
   "metadata": {},
   "outputs": [],
   "source": [
    "subclasses = ['Recovered', 'Hospitalized', 'Deceased'] #e.g. Recovered, Hospitalized, Deceased\n",
    "method='Predictor_Corrector'  # Galerkin and Hybrid also possible\n",
    "integrator='odeint'"
   ]
  },
  {
   "cell_type": "code",
   "execution_count": 6,
   "metadata": {},
   "outputs": [],
   "source": [
    "#Specify the level of resolution in the s-direction\n",
    "NL = 6     #Number of Legendre Polynomials for the Galerkin method (when applicable)\n",
    "Nk = 10    #Number of stages in Predictor/Corrector method\n"
   ]
  },
  {
   "cell_type": "code",
   "execution_count": null,
   "metadata": {},
   "outputs": [],
   "source": []
  }
 ],
 "metadata": {
  "kernelspec": {
   "display_name": "Python 3",
   "language": "python",
   "name": "python3"
  },
  "language_info": {
   "codemirror_mode": {
    "name": "ipython",
    "version": 3
   },
   "file_extension": ".py",
   "mimetype": "text/x-python",
   "name": "python",
   "nbconvert_exporter": "python",
   "pygments_lexer": "ipython3",
   "version": "3.7.3"
  }
 },
 "nbformat": 4,
 "nbformat_minor": 4
}
